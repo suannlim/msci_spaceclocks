{
 "cells": [
  {
   "cell_type": "code",
   "execution_count": null,
   "metadata": {},
   "outputs": [],
   "source": [
    "\"\"\"\n",
    "This file is used to determine the change in time measured when a clock is placed at the top of queens tower versus on the surface of queens\n",
    "lawn\n",
    "\n",
    "The equation we are using to plot the graph of the change in observed time is the time dilation equation derived from the Schwarzschild metric\n",
    "\n",
    "Queens tower is 85m tall\n",
    "\"\"\""
   ]
  },
  {
   "cell_type": "code",
   "execution_count": 2,
   "metadata": {},
   "outputs": [],
   "source": [
    "# importing necessary libraries and defining constants\n",
    "import numpy as np\n",
    "import scipy as scp\n",
    "from scipy import constants\n",
    "import matplotlib.pyplot as plt\n",
    "\n",
    "# mass of earth\n",
    "M = 5.972e24 "
   ]
  },
  {
   "cell_type": "code",
   "execution_count": 3,
   "metadata": {},
   "outputs": [],
   "source": [
    "# defining the Schwarzschild metric time dilation function\n",
    "\n",
    "def time_dilation(t,r):\n",
    "\n",
    "    # takes a range of r values that return an array of new time values caused by gravitational time dilation\n",
    "    t_prime = []\n",
    "    numerator = 2 * constants.G * M\n",
    "    denominator = constants.speed_of_light**2\n",
    "\n",
    "    for x in r:\n",
    "        new_t = np.sqrt( 1 - ( numerator/(denominator * x))) * t\n",
    "        t_prime.append(new_t)\n",
    "\n",
    "    return t_prime\n",
    "\n",
    "\n",
    "    "
   ]
  },
  {
   "cell_type": "code",
   "execution_count": 12,
   "metadata": {},
   "outputs": [
    {
     "data": {
      "image/png": "[encoded data removed]",
      "text/plain": "<Figure size 432x288 with 1 Axes>"
     },
     "metadata": {
      "needs_background": "light"
     },
     "output_type": "display_data"
    }
   ],
   "source": [
    "# defining the array of r values and plotting graph\n",
    "\n",
    "distance = np.arange(1, 100, 1)\n",
    "t = 10 # not sure if this t is the time measured by the clock on the ground?\n",
    "\n",
    "t_prime = time_dilation(t, distance)\n",
    "\n",
    "plt.figure()\n",
    "plt.title(\"time dilation values vs distance\")\n",
    "plt.xlabel(\"distance\")\n",
    "plt.ylabel(\"time dilated\")\n",
    "plt.grid()\n",
    "plt.plot(distance, t_prime)\n",
    "plt.axvline(x=87.4, linestyle = \"dashed\", color = \"red\")\n",
    "plt.show()"
   ]
  }
 ],
 "metadata": {
  "kernelspec": {
   "display_name": "Python 3.8.5 64-bit ('base': conda)",
   "name": "python385jvsc74a57bd0ce85228a2a9ab9548eda6a9195cbe29992cb5f570a37152db66f1076475438aa"
  },
  "language_info": {
   "codemirror_mode": {
    "name": "ipython",
    "version": 3
   },
   "file_extension": ".py",
   "mimetype": "text/x-python",
   "name": "python",
   "nbconvert_exporter": "python",
   "pygments_lexer": "ipython3",
   "version": "3.8.5"
  },
  "metadata": {
   "interpreter": {
    "hash": "ce85228a2a9ab9548eda6a9195cbe29992cb5f570a37152db66f1076475438aa"
   }
  },
  "orig_nbformat": 2
 },
 "nbformat": 4,
 "nbformat_minor": 2
}