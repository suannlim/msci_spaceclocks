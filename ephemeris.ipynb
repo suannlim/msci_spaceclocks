{
 "cells": [
  {
   "cell_type": "code",
   "execution_count": 270,
   "metadata": {},
   "outputs": [],
   "source": [
    "# import necessary libraries\n",
    "import jplephem\n",
    "import numpy as np \n",
    "import matplotlib.pyplot as plt"
   ]
  },
  {
   "cell_type": "code",
   "execution_count": 271,
   "metadata": {},
   "outputs": [
    {
     "data": {
      "text/plain": [
       "'\\njpl ephemeris data can be extracted via the terminal with the following commands\\n\\npython -m jplephem comment de421.bsp\\npython -m jplephem daf de421.bsp\\npython -m jplephem spk de421.bsp\\n'"
      ]
     },
     "execution_count": 271,
     "metadata": {},
     "output_type": "execute_result"
    }
   ],
   "source": [
    "\"\"\"\n",
    "jpl ephemeris data can be extracted via the terminal with the following commands\n",
    "\n",
    "python -m jplephem comment de421.bsp\n",
    "python -m jplephem daf de421.bsp\n",
    "python -m jplephem spk de421.bsp\n",
    "\"\"\""
   ]
  },
  {
   "cell_type": "code",
   "execution_count": 272,
   "metadata": {},
   "outputs": [
    {
     "name": "stdout",
     "output_type": "stream",
     "text": [
      "File type DAF/SPK and format LTL-IEEE with 15 segments:\n",
      "2414864.50..2471184.50  Type 2  Solar System Barycenter (0) -> Mercury Barycenter (1)\n",
      "2414864.50..2471184.50  Type 2  Solar System Barycenter (0) -> Venus Barycenter (2)\n",
      "2414864.50..2471184.50  Type 2  Solar System Barycenter (0) -> Earth Barycenter (3)\n",
      "2414864.50..2471184.50  Type 2  Solar System Barycenter (0) -> Mars Barycenter (4)\n",
      "2414864.50..2471184.50  Type 2  Solar System Barycenter (0) -> Jupiter Barycenter (5)\n",
      "2414864.50..2471184.50  Type 2  Solar System Barycenter (0) -> Saturn Barycenter (6)\n",
      "2414864.50..2471184.50  Type 2  Solar System Barycenter (0) -> Uranus Barycenter (7)\n",
      "2414864.50..2471184.50  Type 2  Solar System Barycenter (0) -> Neptune Barycenter (8)\n",
      "2414864.50..2471184.50  Type 2  Solar System Barycenter (0) -> Pluto Barycenter (9)\n",
      "2414864.50..2471184.50  Type 2  Solar System Barycenter (0) -> Sun (10)\n",
      "2414864.50..2471184.50  Type 2  Earth Barycenter (3) -> Moon (301)\n",
      "2414864.50..2471184.50  Type 2  Earth Barycenter (3) -> Earth (399)\n",
      "2414864.50..2471184.50  Type 2  Mercury Barycenter (1) -> Mercury (199)\n",
      "2414864.50..2471184.50  Type 2  Venus Barycenter (2) -> Venus (299)\n",
      "2414864.50..2471184.50  Type 2  Mars Barycenter (4) -> Mars (499)\n"
     ]
    }
   ],
   "source": [
    "# kernel details the segments available in the .bsp file\n",
    "\n",
    "from jplephem.spk import SPK\n",
    "kernel = SPK.open('de421.bsp')\n",
    "print(kernel)\n"
   ]
  },
  {
   "cell_type": "code",
   "execution_count": 273,
   "metadata": {},
   "outputs": [
    {
     "name": "stdout",
     "output_type": "stream",
     "text": [
      "position of saturn is \n",
      "[-7.836e+08 -1.183e+09 -4.549e+08]\n",
      "the velocity as this point is \n",
      "[ 664075.449 -397634.555 -192833.867]\n"
     ]
    }
   ],
   "source": [
    "# using the .bsp file, it is possible to determine the position of a planet wrt to a certain reference point\n",
    "# for example we consider saturn on feb 8 2015 wrt to solar system barycenter\n",
    "# very confused about the date convention system \n",
    "# date stored in terms of UTC seconds (from 1980)\n",
    "\n",
    "# set the vector output rounding\n",
    "np.set_printoptions(precision=3)\n",
    "\n",
    "# position and velocity of the planet can be determined\n",
    "position, velocity = kernel[0,6].compute_and_differentiate(2457061.5)\n",
    "print(\"position of saturn is \")\n",
    "print(position)\n",
    "print(\"the velocity as this point is \")\n",
    "print(velocity)\n",
    "\n",
    "# note that velocity is given in distance travelled by day (can be converted to other units)\n",
    "# distance is given in kilometers"
   ]
  },
  {
   "cell_type": "code",
   "execution_count": 274,
   "metadata": {},
   "outputs": [],
   "source": [
    "\n",
    "def position_array(planets, type):\n",
    "\n",
    "    if type == \"3d\":\n",
    "        positions_array = ([], [], [])\n",
    "\n",
    "    if type == \"2d\":\n",
    "        positions_array = ([], [])    \n",
    "    for i in planets:\n",
    "        if type == \"3d\":\n",
    "            positions_array[0].append(i[0])\n",
    "            positions_array[1].append(i[1])\n",
    "            positions_array[2].append(i[2])\n",
    "        if type == \"2d\":\n",
    "            positions_array[0].append(i[0])\n",
    "            positions_array[1].append(i[1])\n",
    "\n",
    "    return positions_array\n",
    "\n",
    "\n"
   ]
  },
  {
   "cell_type": "code",
   "execution_count": 275,
   "metadata": {},
   "outputs": [
    {
     "name": "stdout",
     "output_type": "stream",
     "text": [
      "([-815021.8348675325, 149083010.92842126], [-620405.6735999944, -10652559.59355427], [-240835.83496213015, -4590402.853304417])\n",
      "[-815021.835 -620405.674 -240835.835] [ 1.491e+08 -1.065e+07 -4.590e+06]\n"
     ]
    }
   ],
   "source": [
    "# extract sun and earth position on Jan 18th 2000 and plot on a 2D map\n",
    "# write function of gravitational potential and plot a plt.imshow of the grav potential everywhere within the range of the orbit, caused \n",
    "# the combination of gravitational potential from both the sun and the earth\n",
    "\n",
    "import astropy\n",
    "from astropy.time import Time\n",
    "from astropy import units as u\n",
    "\n",
    "# time package allows you to convert normal date and time to julian date\n",
    "t = Time(\"2000-9-18 11:00\")\n",
    "t_jd = t.jd # converts to julian date\n",
    "\n",
    "# find position of earth and sun at this time and converting to AU\n",
    "sun_position = kernel[0,10].compute(t.jd) \n",
    "earth_position = kernel[0,3].compute(t.jd) \n",
    "\n",
    "# append to positions array\n",
    "positions = position_array((sun_position, earth_position), \"3d\")\n",
    "print(positions)\n",
    "\n",
    "\n",
    "\n",
    "\n",
    "\n",
    "print(sun_position, earth_position)"
   ]
  },
  {
   "cell_type": "code",
   "execution_count": 276,
   "metadata": {},
   "outputs": [
    {
     "data": {
      "image/png": "[encoded data removed]",
      "text/plain": [
       "<Figure size 432x288 with 1 Axes>"
      ]
     },
     "metadata": {
      "needs_background": "light"
     },
     "output_type": "display_data"
    }
   ],
   "source": [
    "# plot 3d position \n",
    "\n",
    "from mpl_toolkits.mplot3d import Axes3D\n",
    "\n",
    "\n",
    "fig = plt.figure()\n",
    "ax = fig.add_subplot(projection = '3d')\n",
    "ax.scatter(positions[0][0], positions[1][0], positions[2][0], c = 'red', marker = \".\", label = \"Sun\")\n",
    "ax.scatter(positions[0][1], positions[1][1], positions[2][1], c = 'blue', marker = \".\", label = \"Earth\")\n",
    "plt.legend()\n",
    "plt.show()"
   ]
  },
  {
   "cell_type": "code",
   "execution_count": 277,
   "metadata": {},
   "outputs": [],
   "source": [
    "# now plot on a 2d axes (remove z dimension) and plot grav potential as an imshow graph\n",
    "\n",
    "import scipy\n",
    "from scipy import constants\n",
    "\n",
    "# defining a function to calculate the gravitational potential\n",
    "\n",
    "mass_sun = 1.989e30\n",
    "mass_earth = 5.972e24\n",
    "mass_array = []\n",
    "mass_array.append(mass_sun)\n",
    "mass_array.append(mass_earth)\n",
    "\n",
    "def grav_potential(r, mass):\n",
    "\n",
    "    # this function calculates the gravitational potential at a point due to contribution of an array of masses\n",
    "\n",
    "    \n",
    "    potential = -(constants.G * mass)/r\n",
    "\n",
    "    return potential\n",
    "        "
   ]
  },
  {
   "cell_type": "code",
   "execution_count": 278,
   "metadata": {},
   "outputs": [
    {
     "name": "stdout",
     "output_type": "stream",
     "text": [
      "([-815021.8348675325, 149083010.92842126], [-620405.6735999944, -10652559.59355427])\n"
     ]
    },
    {
     "data": {
      "image/png": "[encoded data removed]",
      "text/plain": [
       "<Figure size 432x288 with 1 Axes>"
      ]
     },
     "metadata": {
      "needs_background": "light"
     },
     "output_type": "display_data"
    }
   ],
   "source": [
    "\n",
    "# now we only want the 2d positions array\n",
    "\n",
    "two_positions = position_array((sun_position, earth_position),\"2d\")\n",
    "print(two_positions)\n",
    "\n",
    "plt.figure(\"2d plot of earth and sun\")\n",
    "plt.plot(two_positions[0][0], two_positions[1][0], \".\", c = \"red\", label = \"sun\")\n",
    "plt.plot(two_positions[0][1], two_positions[1][1], \".\", c = \"blue\", label = \"earth\")\n",
    "plt.legend()\n",
    "plt.xlim([-1.5e8, 1.5e8])\n",
    "plt.ylim([-1.5e8, 1.5e8])\n",
    "\n",
    "plt.grid()\n",
    "plt.show()\n",
    "\n",
    "# we want to find the gravitational potential in a 2d array for the orbit of the earth around the sun\n",
    "# the radius of orbit of the earth is approximately 1.5x10^8 km approximating the orbit as circular\n",
    "# so take a square area of length 3x10^8 with increments at every 6x10^6 km to get 50x50 inputs\n",
    "\n",
    "\n"
   ]
  },
  {
   "cell_type": "code",
   "execution_count": 279,
   "metadata": {},
   "outputs": [
    {
     "name": "stdout",
     "output_type": "stream",
     "text": [
      "[[-3.766e+11 -3.769e+11 -3.773e+11 ... -3.761e+11 -3.757e+11 -3.753e+11]\n",
      " [-3.769e+11 -3.773e+11 -3.777e+11 ... -3.765e+11 -3.761e+11 -3.757e+11]\n",
      " [-3.773e+11 -3.777e+11 -3.781e+11 ... -3.768e+11 -3.765e+11 -3.761e+11]\n",
      " ...\n",
      " [-3.764e+11 -3.768e+11 -3.771e+11 ... -3.759e+11 -3.755e+11 -3.752e+11]\n",
      " [-3.760e+11 -3.764e+11 -3.768e+11 ... -3.755e+11 -3.752e+11 -3.748e+11]\n",
      " [-3.756e+11 -3.760e+11 -3.764e+11 ... -3.752e+11 -3.748e+11 -3.744e+11]]\n",
      "1000\n"
     ]
    }
   ],
   "source": [
    "# we want to find the gravitational potential in a 2d array for the orbit of the earth around the sun\n",
    "# the radius of orbit of the earth is approximately 1.5x10^8 km approximating the orbit as circular\n",
    "# so take a square area of length 3x10^8 with increments at every 6x10^6 km to get 50x50 inputs\n",
    "# note that the sun is essentially at the center already\n",
    "\n",
    "\n",
    "# creating the 2d array\n",
    "x_coord = np.linspace(-2.5e8, 2.5e8, 1000)\n",
    "y_coord = np.linspace(-2.5e8, 2.5e8, 1000)\n",
    "\n",
    "X,Y = np.meshgrid(x_coord, y_coord)\n",
    "\n",
    "def potential_array(X,Y, mass_array, two_positions, type):\n",
    "    # the \"type\" distinguishes whether data is being used for plotting graph or for searching numerical values\n",
    "\n",
    "    # function will iterate through each coordinate point and calculate the grav potential at that point\n",
    "    potential = np.zeros((len(X),len(Y)))\n",
    "\n",
    "    \n",
    "    \n",
    "    for i in range(len(X)):\n",
    "        for j in range(len(Y)):\n",
    "            # looping through the x and y coordinates in the mesh grid\n",
    "            for x in range(len(mass_array)):\n",
    "                # loops through the number of masses to consider and finds the radial distance of the mass to the point on the mesgrid\n",
    "                x_diff = abs(X[i][j] - two_positions[0][x])\n",
    "                y_diff = abs(Y[i][j] - two_positions[1][x])\n",
    "                \n",
    "                r = np.sqrt(x_diff**2 + y_diff**2)\n",
    "\n",
    "                potential[i][j] += grav_potential(r, mass_array[x])\n",
    "\n",
    "            # Cap values as it will mess up contour plot height calculation functionality\n",
    "            if type == \"graph\":\n",
    "                if potential[i][j] < -8000000000000:\n",
    "                    potential[i][j] = -8000000000000\n",
    "            if type == \"numerical\":\n",
    "                continue\n",
    "        \n",
    "\n",
    "    return potential\n",
    "\n",
    "                \n",
    "graph_potential_values = potential_array(X,Y, mass_array, two_positions, \"graph\")\n",
    "potential_values = potential_array(X,Y, mass_array, two_positions, \"numerical\")\n",
    "\n",
    "print(potential_values)\n",
    "print(len(potential_values))\n",
    "\n",
    "\n",
    "\n",
    "#logscale_potential = np.log(abs(potential_values))\n",
    "#print(potential_values)\n",
    "\n",
    "# 10 data points\n",
    "# -622753761314.2579\n",
    "# -5890232201142.565\n",
    "\n",
    "# 100 data points \n",
    "# -622753761314.2579\n",
    "# -111103565557535.06\n",
    "\n"
   ]
  },
  {
   "cell_type": "code",
   "execution_count": 280,
   "metadata": {},
   "outputs": [
    {
     "data": {
      "image/png": "[encoded data removed]",
      "text/plain": [
       "<Figure size 432x288 with 2 Axes>"
      ]
     },
     "metadata": {
      "needs_background": "light"
     },
     "output_type": "display_data"
    }
   ],
   "source": [
    "# now we want to plot the potential values as an imshow graph\n",
    "\n",
    "plt.figure(\"gravitational potential figure\")\n",
    "plt.contourf(X,Y, graph_potential_values, cmap = \"Blues\")\n",
    "plt.plot(two_positions[0][0], two_positions[1][0], \".\", c = \"red\", label = \"Sun\")\n",
    "plt.plot(two_positions[0][1], two_positions[1][1], \".\", c = \"green\", label = \"Earth\")\n",
    "plt.xlabel('X Coordinates / Km')\n",
    "plt.ylabel('Y Coordinates / Km')\n",
    "plt.title(\"Contour Plot of Gravitational Potential\")\n",
    "cbar = plt.colorbar()\n",
    "cbar.ax.set_ylabel('Grav Potential')\n",
    "#plt.xlim([-1.5e8, 1.5e8])\n",
    "#plt.ylim([-1.5e8, 1.5e8])\n",
    "plt.grid()\n",
    "plt.legend()\n",
    "plt.show()"
   ]
  },
  {
   "cell_type": "code",
   "execution_count": 289,
   "metadata": {},
   "outputs": [
    {
     "name": "stdout",
     "output_type": "stream",
     "text": [
      "[[499, 498], [853, 999]]\n",
      "[[498, 499], [999, 144]]\n",
      "[[-756.72  -759.004 -761.295 ... -753.864 -751.596 -749.334]\n",
      " [-757.099 -759.387 -761.681 ... -754.239 -751.967 -749.702]\n",
      " [-757.857 -760.151 -762.452 ... -754.988 -752.709 -750.438]\n",
      " ...\n",
      " [ 755.975  758.252  760.536 ...  753.127  750.865  748.61 ]\n",
      " [ 755.212  757.482  759.759 ...  752.372  750.117  747.869]\n",
      " [ 754.83   757.097  759.37  ...  751.994  749.743  747.498]]\n"
     ]
    }
   ],
   "source": [
    "# now we want to search for the lagrange points in the array, these should occur when the grad of the potential = 0\n",
    "\n",
    "# np.gradient returns grad in x then y direction\n",
    "grad_potential = np.gradient(potential_values,500e3,500e3)\n",
    "x_grad = grad_potential[0]\n",
    "y_grad = grad_potential[1]\n",
    "\n",
    "def lagrange_point(potential_values):\n",
    "    # this function should find the lagrange point in the 2d arrays\n",
    "    # first search rows for min point then search corresponding collumn for max point, if the positions are the same then\n",
    "    # save as lagrange point\n",
    "\n",
    "    lagrange_points = []\n",
    "\n",
    "    for i in range(len(potential_values)):\n",
    "        # searching for minimums and corresponding maximums\n",
    "        # the function loops through the rows and finds the minimum in each row\n",
    "        position_min = np.where(potential_values[i] == np.amin(potential_values[i]))\n",
    "        \n",
    "        # now we want to search the collumn corresponding to the minimum and see if the position of the maximum corresponds with the minimum\n",
    "        collumn = []\n",
    "        for j in range(len(potential_values)):\n",
    "            collumn.append(potential_values[j][position_min[0][0]])\n",
    "        \n",
    "        # finding the position of the max value in the collumn\n",
    "        position_max = np.where(collumn == np.amax(collumn))\n",
    "\n",
    "        if i == position_max[0][0]:\n",
    "            lagrange_points.append([i,position_min[0][0]])\n",
    "            \n",
    "            \n",
    "\n",
    "        \n",
    "        # now searching for maxmimums and corresponding minimums\n",
    "        position_max1 = np.where(potential_values[i] == np.amax(potential_values[i]))\n",
    "\n",
    "        # again create the collumn that corresponds to this maximum\n",
    "        collumn_1 = []\n",
    "        for j in range(len(potential_values)):\n",
    "            collumn_1.append(potential_values[j][position_max1[0][0]])\n",
    "        \n",
    "\n",
    "        position_min1 = np.where(collumn_1 == np.amax(collumn_1))\n",
    "\n",
    "        if i == position_min1[0][0]:\n",
    "            lagrange_points.append([i, position_max1[0][0]])\n",
    "\n",
    "    return lagrange_points\n",
    "\n",
    "Lpoints_x = lagrange_point(x_grad)\n",
    "Lpoints_y = lagrange_point(y_grad)\n",
    "print(Lpoints_x)\n",
    "print(Lpoints_y)\n",
    "\n",
    "L1_x = X[Lpoints_x[0][0]][Lpoints_x[0][1]]\n",
    "L1_y = Y[Lpoints_x[0][0]][Lpoints_x[0][1]]\n",
    "\n",
    "L2_x = X[Lpoints_x[1][0]][Lpoints_x[1][1]]\n",
    "L2_y = Y[Lpoints_x[0][0]][Lpoints_x[0][1]]\n",
    "\n",
    "L3_x = X[Lpoints_y[0][0]][Lpoints_y[0][1]]\n",
    "L3_y = Y[Lpoints_y[0][0]][Lpoints_x[0][1]]\n",
    "\n",
    "L4_x = X[Lpoints_y[1][0]][Lpoints_y[1][1]]\n",
    "L4_y = Y[Lpoints_y[0][0]][Lpoints_y[0][1]]\n",
    "\n",
    "print(x_grad)\n",
    "        \n",
    "    \n",
    "\n"
   ]
  },
  {
   "cell_type": "code",
   "execution_count": 291,
   "metadata": {},
   "outputs": [
    {
     "data": {
      "image/png": "[encoded data removed]",
      "text/plain": [
       "<Figure size 432x288 with 2 Axes>"
      ]
     },
     "metadata": {
      "needs_background": "light"
     },
     "output_type": "display_data"
    }
   ],
   "source": [
    "plt.figure(\"gravitational potential with lagrange points\")\n",
    "plt.contourf(X,Y, graph_potential_values, cmap = \"Blues\")\n",
    "plt.plot(two_positions[0][0], two_positions[1][0], \".\", c = \"red\", label = \"Sun\")\n",
    "plt.plot(two_positions[0][1], two_positions[1][1], \".\", c = \"green\", label = \"Earth\")\n",
    "#plt.plot(L1_x, L1_y, \"o\", c = \"white\", label = \"L1 X Grad\")\n",
    "plt.plot(L2_x, L2_y, \"o\", c= \"yellow\", label = \"L2 X Grad\")\n",
    "#plt.plot(L3_x, L3_y, \"o\", c= \"orange\", label = \"L3 Y Grad\")\n",
    "plt.plot(L4_x, L4_y, \"o\", c= \"purple\", label = \"L4 Y Grad\")\n",
    "plt.xlabel('X Coordinates / Km')\n",
    "plt.ylabel('Y Coordinates / Km')\n",
    "plt.title(\"Contour Plot of Gravitational Potential\")\n",
    "cbar = plt.colorbar()\n",
    "cbar.ax.set_ylabel('Grav Potential')\n",
    "#plt.xlim([-1.5e8, 1.5e8])\n",
    "#plt.ylim([-1.5e8, 1.5e8])\n",
    "plt.grid()\n",
    "plt.legend()\n",
    "plt.show()"
   ]
  },
  {
   "cell_type": "markdown",
   "metadata": {},
   "source": [
    "looks like this method only finds the L2 and L3 lagrange point\n",
    "maybe have to take grad in spherical polar coordinates instead?\n",
    "L2 and L3 are unstable lagrange points\n",
    "\n",
    "calculate curvature matrix instead\n"
   ]
  },
  {
   "cell_type": "code",
   "execution_count": 283,
   "metadata": {},
   "outputs": [
    {
     "name": "stdout",
     "output_type": "stream",
     "text": [
      "CSPICE_N0066\n",
      "Help on function furnsh in module spiceypy.spiceypy:\n",
      "\n",
      "furnsh(path: Union[str, Iterable[str]]) -> None\n",
      "    Load one or more SPICE kernels into a program.\n",
      "    \n",
      "    https://naif.jpl.nasa.gov/pub/naif/toolkit_docs/C/cspice/furnsh_c.html\n",
      "    \n",
      "    :param path: one or more paths to kernels\n",
      "\n",
      "None\n"
     ]
    }
   ],
   "source": [
    "# trying to use spiceypy to open the ephemeris lagrange point data\n",
    "\n",
    "import spiceypy as spice\n",
    "\n",
    "print(spiceypy.tkvrsn('TOOLKIT'))\n",
    "\n",
    "help(spice.furnsh)\n",
    "\n",
    "\n",
    "# loads the lagrange kernel in\n",
    "lagrange_kernel = spice.furnsh('L1_de431.bsp')\n",
    "print(lagrange_kernel)"
   ]
  },
  {
   "cell_type": "code",
   "execution_count": 287,
   "metadata": {},
   "outputs": [
    {
     "name": "stdout",
     "output_type": "stream",
     "text": [
      "[[1069.746 1071.629 1073.784 ... 1066.785 1064.644 1062.778]\n",
      " [1071.629 1073.515 1075.676 ... 1068.658 1066.511 1064.642]\n",
      " [1073.786 1075.678 1077.848 ... 1070.801 1068.646 1066.771]\n",
      " ...\n",
      " [1068.447 1070.324 1072.473 ... 1065.495 1063.361 1061.501]\n",
      " [1066.301 1068.172 1070.312 ... 1063.362 1061.237 1059.382]\n",
      " [1064.431 1066.299 1068.433 ... 1061.503 1059.383 1057.531]]\n",
      "[[900 100]\n",
      " [899 896]\n",
      " [900 899]\n",
      " [897 900]\n",
      " [900 896]\n",
      " [896 900]\n",
      " [894 900]\n",
      " [102 899]\n",
      " [897 899]\n",
      " [898 897]\n",
      " [898 100]\n",
      " [101 898]\n",
      " [893 900]\n",
      " [899 895]\n",
      " [101 899]\n",
      " [895 898]\n",
      " [899 899]\n",
      " [900 102]\n",
      " [900 893]\n",
      " [900 898]\n",
      " [898 900]\n",
      " [899 900]\n",
      " [900 897]\n",
      " [100 899]\n",
      " [100 897]\n",
      " [898 896]\n",
      " [897 897]\n",
      " [900 894]\n",
      " [899 897]\n",
      " [894 899]\n",
      " [101 900]\n",
      " [898 899]\n",
      " [896 899]\n",
      " [895 900]\n",
      " [897 898]\n",
      " [900 895]\n",
      " [100 900]\n",
      " [900 101]\n",
      " [895 899]\n",
      " [900 900]\n",
      " [898 895]\n",
      " [899 898]\n",
      " [899 101]\n",
      " [100 898]\n",
      " [898 898]\n",
      " [102 900]\n",
      " [899 100]\n",
      " [103 900]\n",
      " [896 898]\n",
      " [899 894]]\n"
     ]
    }
   ],
   "source": [
    "# improving on existing lagrange point function\n",
    "\n",
    "def lagrange_point_new(x_grad, y_grad):\n",
    "    # the x grad matrix contains the x component of the gradient vector at that point, and similarly with the y grad matrix\n",
    "\n",
    "    # create the 2d array that will store the abs vector values\n",
    "    abs_grad = np.zeros((len(x_grad),len(x_grad[0])))\n",
    "\n",
    "    for i in range(len(x_grad)):\n",
    "        # iterating through the rows of the gradient matrices\n",
    "        for j in range(len(x_grad[0])):\n",
    "            # iterating through the collumns of the gradient matrices\n",
    "            x_comp = x_grad[i][j]\n",
    "            y_comp = y_grad[i][j]\n",
    "\n",
    "            grad_abs_value = np.sqrt(x_comp**2 + y_comp**2)\n",
    "\n",
    "            abs_grad[i][j] = grad_abs_value\n",
    "\n",
    "    # creating an array to store the 5 lowest values in the argmin matrix\n",
    "    low_grad_vals = np.full(50,fill_value=np.inf)\n",
    "    low_grad_vals_pos = np.zeros((50,2), dtype='int')\n",
    "    \n",
    "    # now searching array for the lowest values\n",
    "    for i in range(len(abs_grad)):\n",
    "        # excluding the edges of the grid\n",
    "        if (i >= 100) and (i <= 900):\n",
    "            # iterating through abs gradient matrix rows\n",
    "            for j in range(len(abs_grad[0])):\n",
    "                # iterating through abs gradient matrix collumns\n",
    "                if (j>=100) and (j<=900):\n",
    "                    # again excluding the edge cases\n",
    "                    max_grad = np.amax(low_grad_vals)\n",
    "                    max_grad_position = np.argmax(low_grad_vals)\n",
    "\n",
    "                    # compare the max value in low grad values to the component in the abs grad 2d array\n",
    "                    if abs_grad[i][j] < max_grad:\n",
    "\n",
    "                        low_grad_vals[max_grad_position] = abs_grad[i][j]\n",
    "                        low_grad_vals_pos[max_grad_position][0] = i\n",
    "                        low_grad_vals_pos[max_grad_position][1] = j\n",
    "\n",
    "                    \n",
    "                    else:\n",
    "                        continue\n",
    "                else:\n",
    "                    continue\n",
    "\n",
    "        else:\n",
    "            continue\n",
    "\n",
    "\n",
    "    \n",
    "    print(abs_grad)\n",
    "    return (low_grad_vals,low_grad_vals_pos, abs_grad)\n",
    "\n",
    "\n",
    "lagrange_points, lagrange_points_pos, abs_grad = lagrange_point_new(x_grad,y_grad)\n",
    "\n",
    "#print(lagrange_points)\n",
    "print(lagrange_points_pos) # array containing len 2 arrays with the x,y positions of the lagrange points\n",
    "#print(abs_grad)\n",
    "\n",
    "\n",
    "L1_x = X[lagrange_points_pos[0][0]][lagrange_points_pos[0][1]]\n",
    "L1_y = Y[lagrange_points_pos[0][0]][lagrange_points_pos[0][1]]\n",
    "\n",
    "L2_x = X[lagrange_points_pos[1][0]][lagrange_points_pos[1][1]]\n",
    "L2_y = Y[lagrange_points_pos[1][0]][lagrange_points_pos[1][1]]\n",
    "\n",
    "L3_x = X[lagrange_points_pos[7][0]][lagrange_points_pos[7][1]]\n",
    "L3_y = Y[lagrange_points_pos[7][0]][lagrange_points_pos[7][1]]\n",
    "\n",
    "\n",
    "\n",
    "\n",
    "\n",
    "\n",
    "\n",
    "\n",
    "    "
   ]
  },
  {
   "cell_type": "code",
   "execution_count": 288,
   "metadata": {},
   "outputs": [
    {
     "data": {
      "image/png": "[encoded data removed]",
      "text/plain": [
       "<Figure size 432x288 with 2 Axes>"
      ]
     },
     "metadata": {
      "needs_background": "light"
     },
     "output_type": "display_data"
    }
   ],
   "source": [
    "plt.figure(\"gravitational potential with lagrange points\")\n",
    "plt.contourf(X,Y, graph_potential_values, cmap = \"Blues\")\n",
    "plt.plot(two_positions[0][0], two_positions[1][0], \".\", c = \"red\", label = \"Sun\")\n",
    "plt.plot(two_positions[0][1], two_positions[1][1], \".\", c = \"green\", label = \"Earth\")\n",
    "plt.plot(L1_x, L1_y, \"o\", c = \"white\", label = \"L1 X Grad\")\n",
    "plt.plot(L2_x, L2_y, \"o\", c= \"yellow\", label = \"L2 X Grad\")\n",
    "plt.plot(L3_x, L3_y, \"o\", c= \"orange\", label = \"L3 Y Grad\")\n",
    "#plt.plot(L4_x, L4_y, \"o\", c= \"purple\", label = \"L4 Y Grad\")\n",
    "plt.xlabel('X Coordinates / Km')\n",
    "plt.ylabel('Y Coordinates / Km')\n",
    "plt.title(\"Contour Plot of Gravitational Potential\")\n",
    "cbar = plt.colorbar()\n",
    "cbar.ax.set_ylabel('Grav Potential')\n",
    "#plt.xlim([-1.5e8, 1.5e8])\n",
    "#plt.ylim([-1.5e8, 1.5e8])\n",
    "plt.grid()\n",
    "plt.legend()\n",
    "plt.show()"
   ]
  },
  {
   "cell_type": "code",
   "execution_count": 296,
   "metadata": {},
   "outputs": [
    {
     "name": "stdout",
     "output_type": "stream",
     "text": [
      "900100 is a saddle point\n",
      "900900 is a saddle point\n",
      "100900 is a saddle point\n"
     ]
    },
    {
     "data": {
      "text/plain": [
       "array([ 2.926, -5.852])"
      ]
     },
     "execution_count": 296,
     "metadata": {},
     "output_type": "execute_result"
    }
   ],
   "source": [
    "# creating a function that generates the curvature matrix at each point\n",
    "\n",
    "from numpy import linalg \n",
    "\n",
    "def curvature_matrix(x_grad, y_grad, lagrange_points_pos):\n",
    "    # finds the hessian matrix at each of the lagrange points and finds the corresponding eigenvalues of that matrix\n",
    "    xx, xy = np.gradient(x_grad)\n",
    "    yx, yy = np.gradient(y_grad)\n",
    "    \n",
    "    for i in lagrange_points_pos:\n",
    "        curv_matrix = np.zeros((2,2))\n",
    "        curv_matrix[0][0] = xx[i[0]][i[1]]\n",
    "        curv_matrix[0][1] = xy[i[0]][i[1]]\n",
    "        curv_matrix[1][0] = yx[i[0]][i[1]]\n",
    "        curv_matrix[1][1] = yy[i[0]][i[1]]\n",
    "\n",
    "        eigenvalues = np.linalg.eigvals(curv_matrix)\n",
    "\n",
    "        lamda1 = eigenvalues[0]\n",
    "        lamda2 = eigenvalues[1]\n",
    "\n",
    "        if (lamda1 > 0) and (lamda2 > 0):\n",
    "            print(str(i[0]) + \",\" + str(i[1]) + \" is a minima\")\n",
    "\n",
    "        if (lamda1 < 0) and (lamda2 < 0):\n",
    "            print(str(i[0]) + \",\"  + str(i[1]) + \" is a maxima\")\n",
    "\n",
    "        if (lamda1 > 0) and (lamda2 < 0):\n",
    "            print(str(i[0]) + \",\" +  str(i[1]) + \" is a saddle point\")\n",
    "\n",
    "        if (lamda1 < 0) and (lamda2 > 0):\n",
    "            print(str(i[0]) + \",\"  + str(i[1]) + \" is a saddle point\")\n",
    "        \n",
    "\n",
    "        \n",
    "\n",
    "    return eigenvalues\n",
    "\n",
    "test_lagrange_points = [[900,100], [900,900], [100,900]]\n",
    "\n",
    "curvature_matrix(x_grad,y_grad, test_lagrange_points)\n",
    "\n",
    "\n",
    "        \n",
    "    \n",
    "        "
   ]
  }
 ],
 "metadata": {
  "interpreter": {
   "hash": "16d10a9ef6261dc03de61503f9d197db8a71d6c7db9b6f9d3a6279e13d9f461c"
  },
  "kernelspec": {
   "display_name": "Python 3.8.5 64-bit ('base': conda)",
   "name": "python3"
  },
  "language_info": {
   "codemirror_mode": {
    "name": "ipython",
    "version": 3
   },
   "file_extension": ".py",
   "mimetype": "text/x-python",
   "name": "python",
   "nbconvert_exporter": "python",
   "pygments_lexer": "ipython3",
   "version": "3.8.5"
  },
  "metadata": {
   "interpreter": {
    "hash": "ce85228a2a9ab9548eda6a9195cbe29992cb5f570a37152db66f1076475438aa"
   }
  },
  "orig_nbformat": 2
 },
 "nbformat": 4,
 "nbformat_minor": 2
}
