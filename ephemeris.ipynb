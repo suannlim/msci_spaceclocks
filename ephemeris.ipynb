{
 "metadata": {
  "language_info": {
   "codemirror_mode": {
    "name": "ipython",
    "version": 3
   },
   "file_extension": ".py",
   "mimetype": "text/x-python",
   "name": "python",
   "nbconvert_exporter": "python",
   "pygments_lexer": "ipython3",
   "version": "3.8.5"
  },
  "orig_nbformat": 2,
  "kernelspec": {
   "name": "python385jvsc74a57bd0ce85228a2a9ab9548eda6a9195cbe29992cb5f570a37152db66f1076475438aa",
   "display_name": "Python 3.8.5 64-bit ('base': conda)"
  },
  "metadata": {
   "interpreter": {
    "hash": "ce85228a2a9ab9548eda6a9195cbe29992cb5f570a37152db66f1076475438aa"
   }
  }
 },
 "nbformat": 4,
 "nbformat_minor": 2,
 "cells": [
  {
   "cell_type": "code",
   "execution_count": 3,
   "metadata": {},
   "outputs": [],
   "source": [
    "# import necessary libraries\n",
    "import jplephem\n",
    "import numpy as np "
   ]
  },
  {
   "source": [
    "\"\"\"\n",
    "jpl ephemeris data can be extracted via the terminal with the following commands\n",
    "\n",
    "python -m jplephem comment de421.bsp\n",
    "python -m jplephem daf de421.bsp\n",
    "python -m jplephem spk de421.bsp\n",
    "\"\"\""
   ],
   "cell_type": "code",
   "metadata": {},
   "execution_count": 4,
   "outputs": [
    {
     "output_type": "execute_result",
     "data": {
      "text/plain": [
       "'\\njpl ephemeris data can be extracted via the terminal with the following commands\\n\\npython -m jplephem comment de421.bsp\\npython -m jplephem daf de421.bsp\\npython -m jplephem spk de421.bsp\\n'"
      ]
     },
     "metadata": {},
     "execution_count": 4
    }
   ]
  },
  {
   "source": [
    "# kernel details the segments available in the .bsp file\n",
    "\n",
    "from jplephem.spk import SPK\n",
    "kernel = SPK.open('de421.bsp')\n",
    "print(kernel)\n"
   ],
   "cell_type": "code",
   "metadata": {},
   "execution_count": 5,
   "outputs": [
    {
     "output_type": "stream",
     "name": "stdout",
     "text": [
      "File type DAF/SPK and format LTL-IEEE with 15 segments:\n2414864.50..2471184.50  Type 2  Solar System Barycenter (0) -> Mercury Barycenter (1)\n2414864.50..2471184.50  Type 2  Solar System Barycenter (0) -> Venus Barycenter (2)\n2414864.50..2471184.50  Type 2  Solar System Barycenter (0) -> Earth Barycenter (3)\n2414864.50..2471184.50  Type 2  Solar System Barycenter (0) -> Mars Barycenter (4)\n2414864.50..2471184.50  Type 2  Solar System Barycenter (0) -> Jupiter Barycenter (5)\n2414864.50..2471184.50  Type 2  Solar System Barycenter (0) -> Saturn Barycenter (6)\n2414864.50..2471184.50  Type 2  Solar System Barycenter (0) -> Uranus Barycenter (7)\n2414864.50..2471184.50  Type 2  Solar System Barycenter (0) -> Neptune Barycenter (8)\n2414864.50..2471184.50  Type 2  Solar System Barycenter (0) -> Pluto Barycenter (9)\n2414864.50..2471184.50  Type 2  Solar System Barycenter (0) -> Sun (10)\n2414864.50..2471184.50  Type 2  Earth Barycenter (3) -> Moon (301)\n2414864.50..2471184.50  Type 2  Earth Barycenter (3) -> Earth (399)\n2414864.50..2471184.50  Type 2  Mercury Barycenter (1) -> Mercury (199)\n2414864.50..2471184.50  Type 2  Venus Barycenter (2) -> Venus (299)\n2414864.50..2471184.50  Type 2  Mars Barycenter (4) -> Mars (499)\n"
     ]
    }
   ]
  },
  {
   "cell_type": "code",
   "execution_count": 8,
   "metadata": {},
   "outputs": [
    {
     "output_type": "stream",
     "name": "stdout",
     "text": [
      "position of saturn is \n[-7.836e+08 -1.183e+09 -4.549e+08]\nthe velocity as this point is \n[ 664075.449 -397634.555 -192833.867]\n"
     ]
    }
   ],
   "source": [
    "# using the .bsp file, it is possible to determine the position of a planet wrt to a certain reference point\n",
    "# for example we consider saturn on feb 8 2015 wrt to solar system barycenter\n",
    "# very confused about the date convention system \n",
    "\n",
    "# set the vector output rounding\n",
    "np.set_printoptions(precision=3)\n",
    "\n",
    "# position and velocity of the planet can be determined\n",
    "position, velocity = kernel[0,6].compute_and_differentiate(2457061.5)\n",
    "print(\"position of saturn is \")\n",
    "print(position)\n",
    "print(\"the velocity as this point is \")\n",
    "print(velocity)\n",
    "\n",
    "# note that velocity is given in distance travelled by day (can be converted to other units)\n",
    "# distance is given in kilometers"
   ]
  },
  {
   "cell_type": "code",
   "execution_count": null,
   "metadata": {},
   "outputs": [],
   "source": []
  }
 ]
}