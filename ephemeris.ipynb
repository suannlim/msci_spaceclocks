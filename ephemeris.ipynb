{
 "cells": [
  {
   "cell_type": "code",
   "execution_count": 114,
   "metadata": {},
   "outputs": [],
   "source": [
    "# import necessary libraries\n",
    "import jplephem\n",
    "import numpy as np \n",
    "import matplotlib.pyplot as plt"
   ]
  },
  {
   "cell_type": "code",
   "execution_count": 115,
   "metadata": {},
   "outputs": [
    {
     "data": {
      "text/plain": [
       "'\\njpl ephemeris data can be extracted via the terminal with the following commands\\n\\npython -m jplephem comment de421.bsp\\npython -m jplephem daf de421.bsp\\npython -m jplephem spk de421.bsp\\n'"
      ]
     },
     "execution_count": 115,
     "metadata": {},
     "output_type": "execute_result"
    }
   ],
   "source": [
    "\"\"\"\n",
    "jpl ephemeris data can be extracted via the terminal with the following commands\n",
    "\n",
    "python -m jplephem comment de421.bsp\n",
    "python -m jplephem daf de421.bsp\n",
    "python -m jplephem spk de421.bsp\n",
    "\"\"\""
   ]
  },
  {
   "cell_type": "code",
   "execution_count": 116,
   "metadata": {},
   "outputs": [
    {
     "name": "stdout",
     "output_type": "stream",
     "text": [
      "File type DAF/SPK and format LTL-IEEE with 15 segments:\n",
      "2414864.50..2471184.50  Type 2  Solar System Barycenter (0) -> Mercury Barycenter (1)\n",
      "2414864.50..2471184.50  Type 2  Solar System Barycenter (0) -> Venus Barycenter (2)\n",
      "2414864.50..2471184.50  Type 2  Solar System Barycenter (0) -> Earth Barycenter (3)\n",
      "2414864.50..2471184.50  Type 2  Solar System Barycenter (0) -> Mars Barycenter (4)\n",
      "2414864.50..2471184.50  Type 2  Solar System Barycenter (0) -> Jupiter Barycenter (5)\n",
      "2414864.50..2471184.50  Type 2  Solar System Barycenter (0) -> Saturn Barycenter (6)\n",
      "2414864.50..2471184.50  Type 2  Solar System Barycenter (0) -> Uranus Barycenter (7)\n",
      "2414864.50..2471184.50  Type 2  Solar System Barycenter (0) -> Neptune Barycenter (8)\n",
      "2414864.50..2471184.50  Type 2  Solar System Barycenter (0) -> Pluto Barycenter (9)\n",
      "2414864.50..2471184.50  Type 2  Solar System Barycenter (0) -> Sun (10)\n",
      "2414864.50..2471184.50  Type 2  Earth Barycenter (3) -> Moon (301)\n",
      "2414864.50..2471184.50  Type 2  Earth Barycenter (3) -> Earth (399)\n",
      "2414864.50..2471184.50  Type 2  Mercury Barycenter (1) -> Mercury (199)\n",
      "2414864.50..2471184.50  Type 2  Venus Barycenter (2) -> Venus (299)\n",
      "2414864.50..2471184.50  Type 2  Mars Barycenter (4) -> Mars (499)\n"
     ]
    }
   ],
   "source": [
    "# kernel details the segments available in the .bsp file\n",
    "\n",
    "from jplephem.spk import SPK\n",
    "kernel = SPK.open('de421.bsp')\n",
    "print(kernel)\n"
   ]
  },
  {
   "cell_type": "code",
   "execution_count": 117,
   "metadata": {},
   "outputs": [
    {
     "name": "stdout",
     "output_type": "stream",
     "text": [
      "position of saturn is \n",
      "[-7.836e+08 -1.183e+09 -4.549e+08]\n",
      "the velocity as this point is \n",
      "[ 664075.449 -397634.555 -192833.867]\n"
     ]
    }
   ],
   "source": [
    "# using the .bsp file, it is possible to determine the position of a planet wrt to a certain reference point\n",
    "# for example we consider saturn on feb 8 2015 wrt to solar system barycenter\n",
    "# very confused about the date convention system \n",
    "# date stored in terms of UTC seconds (from 1980)\n",
    "\n",
    "# set the vector output rounding\n",
    "np.set_printoptions(precision=3)\n",
    "\n",
    "# position and velocity of the planet can be determined\n",
    "position, velocity = kernel[0,6].compute_and_differentiate(2457061.5)\n",
    "print(\"position of saturn is \")\n",
    "print(position)\n",
    "print(\"the velocity as this point is \")\n",
    "print(velocity)\n",
    "\n",
    "# note that velocity is given in distance travelled by day (can be converted to other units)\n",
    "# distance is given in kilometers"
   ]
  },
  {
   "cell_type": "code",
   "execution_count": 118,
   "metadata": {},
   "outputs": [],
   "source": [
    "\n",
    "def position_array(planets, type):\n",
    "\n",
    "    if type == \"3d\":\n",
    "        positions_array = ([], [], [])\n",
    "\n",
    "    if type == \"2d\":\n",
    "        positions_array = ([], [])    \n",
    "    for i in planets:\n",
    "        if type == \"3d\":\n",
    "            positions_array[0].append(i[0])\n",
    "            positions_array[1].append(i[1])\n",
    "            positions_array[2].append(i[2])\n",
    "        if type == \"2d\":\n",
    "            positions_array[0].append(i[0])\n",
    "            positions_array[1].append(i[1])\n",
    "\n",
    "    return positions_array\n",
    "\n",
    "\n"
   ]
  },
  {
   "cell_type": "code",
   "execution_count": 147,
   "metadata": {},
   "outputs": [
    {
     "name": "stdout",
     "output_type": "stream",
     "text": [
      "([-849029.2418150447, 124377664.0076829], [-598370.598310512, -78687705.16731149], [-230508.3025692314, -34086276.326992385])\n",
      "[-849029.242 -598370.598 -230508.303] [ 1.244e+08 -7.869e+07 -3.409e+07]\n"
     ]
    }
   ],
   "source": [
    "# extract sun and earth position on Jan 18th 2000 and plot on a 2D map\n",
    "# write function of gravitational potential and plot a plt.imshow of the grav potential everywhere within the range of the orbit, caused \n",
    "# the combination of gravitational potential from both the sun and the earth\n",
    "\n",
    "import astropy\n",
    "from astropy.time import Time\n",
    "from astropy import units as u\n",
    "\n",
    "# time package allows you to convert normal date and time to julian date\n",
    "t = Time(\"2000-8-18 11:00\")\n",
    "t_jd = t.jd # converts to julian date\n",
    "\n",
    "# find position of earth and sun at this time and converting to AU\n",
    "sun_position = kernel[0,10].compute(t.jd) \n",
    "earth_position = kernel[0,3].compute(t.jd) \n",
    "\n",
    "# append to positions array\n",
    "positions = position_array((sun_position, earth_position), \"3d\")\n",
    "print(positions)\n",
    "\n",
    "\n",
    "\n",
    "\n",
    "\n",
    "print(sun_position, earth_position)"
   ]
  },
  {
   "cell_type": "code",
   "execution_count": 148,
   "metadata": {},
   "outputs": [
    {
     "data": {
      "image/png": "[encoded data removed]",
      "text/plain": [
       "<Figure size 432x288 with 1 Axes>"
      ]
     },
     "metadata": {
      "needs_background": "light"
     },
     "output_type": "display_data"
    }
   ],
   "source": [
    "# plot 3d position \n",
    "\n",
    "from mpl_toolkits.mplot3d import Axes3D\n",
    "\n",
    "\n",
    "fig = plt.figure()\n",
    "ax = fig.add_subplot(projection = '3d')\n",
    "ax.scatter(positions[0][0], positions[1][0], positions[2][0], c = 'red', marker = \".\", label = \"Sun\")\n",
    "ax.scatter(positions[0][1], positions[1][1], positions[2][1], c = 'blue', marker = \".\", label = \"Earth\")\n",
    "plt.legend()\n",
    "plt.show()"
   ]
  },
  {
   "cell_type": "code",
   "execution_count": 149,
   "metadata": {},
   "outputs": [],
   "source": [
    "# now plot on a 2d axes (remove z dimension) and plot grav potential as an imshow graph\n",
    "\n",
    "import scipy\n",
    "from scipy import constants\n",
    "\n",
    "# defining a function to calculate the gravitational potential\n",
    "\n",
    "mass_sun = 1.989e30\n",
    "mass_earth = 5.972e24\n",
    "mass_array = []\n",
    "mass_array.append(mass_sun)\n",
    "mass_array.append(mass_earth)\n",
    "\n",
    "def grav_potential(r, mass):\n",
    "\n",
    "    # this function calculates the gravitational potential at a point due to contribution of an array of masses\n",
    "\n",
    "    \n",
    "    potential = -(constants.G * mass)/r\n",
    "\n",
    "    return potential\n",
    "        "
   ]
  },
  {
   "cell_type": "code",
   "execution_count": 150,
   "metadata": {},
   "outputs": [
    {
     "name": "stdout",
     "output_type": "stream",
     "text": [
      "([-849029.2418150447, 124377664.0076829], [-598370.598310512, -78687705.16731149])\n"
     ]
    },
    {
     "data": {
      "image/png": "[encoded data removed]",
      "text/plain": [
       "<Figure size 432x288 with 1 Axes>"
      ]
     },
     "metadata": {
      "needs_background": "light"
     },
     "output_type": "display_data"
    }
   ],
   "source": [
    "\n",
    "# now we only want the 2d positions array\n",
    "\n",
    "two_positions = position_array((sun_position, earth_position),\"2d\")\n",
    "print(two_positions)\n",
    "\n",
    "plt.figure(\"2d plot of earth and sun\")\n",
    "plt.plot(two_positions[0][0], two_positions[1][0], \".\", c = \"red\", label = \"sun\")\n",
    "plt.plot(two_positions[0][1], two_positions[1][1], \".\", c = \"blue\", label = \"earth\")\n",
    "plt.legend()\n",
    "plt.xlim([-1.5e8, 1.5e8])\n",
    "plt.ylim([-1.5e8, 1.5e8])\n",
    "\n",
    "plt.grid()\n",
    "plt.show()\n",
    "\n",
    "# we want to find the gravitational potential in a 2d array for the orbit of the earth around the sun\n",
    "# the radius of orbit of the earth is approximately 1.5x10^8 km approximating the orbit as circular\n",
    "# so take a square area of length 3x10^8 with increments at every 6x10^6 km to get 50x50 inputs\n",
    "\n",
    "\n"
   ]
  },
  {
   "cell_type": "code",
   "execution_count": 163,
   "metadata": {},
   "outputs": [
    {
     "name": "stdout",
     "output_type": "stream",
     "text": [
      "[[-6.288e+11 -6.295e+11 -6.301e+11 ... -6.265e+11 -6.259e+11 -6.253e+11]\n",
      " [-6.295e+11 -6.301e+11 -6.307e+11 ... -6.272e+11 -6.265e+11 -6.259e+11]\n",
      " [-6.301e+11 -6.307e+11 -6.314e+11 ... -6.278e+11 -6.272e+11 -6.265e+11]\n",
      " ...\n",
      " [-6.276e+11 -6.282e+11 -6.288e+11 ... -6.253e+11 -6.247e+11 -6.240e+11]\n",
      " [-6.269e+11 -6.276e+11 -6.282e+11 ... -6.247e+11 -6.240e+11 -6.234e+11]\n",
      " [-6.263e+11 -6.269e+11 -6.276e+11 ... -6.240e+11 -6.234e+11 -6.228e+11]]\n",
      "1000\n"
     ]
    }
   ],
   "source": [
    "# we want to find the gravitational potential in a 2d array for the orbit of the earth around the sun\n",
    "# the radius of orbit of the earth is approximately 1.5x10^8 km approximating the orbit as circular\n",
    "# so take a square area of length 3x10^8 with increments at every 6x10^6 km to get 50x50 inputs\n",
    "# note that the sun is essentially at the center already\n",
    "\n",
    "\n",
    "# creating the 2d array\n",
    "x_coord = np.linspace(-1.5e8, 1.5e8, 1000)\n",
    "y_coord = np.linspace(-1.5e8, 1.5e8, 1000)\n",
    "\n",
    "X,Y = np.meshgrid(x_coord, y_coord)\n",
    "\n",
    "def potential_array(X,Y, mass_array, two_positions, type):\n",
    "    # the \"type\" distinguishes whether data is being used for plotting graph or for searching numerical values\n",
    "\n",
    "    # function will iterate through each coordinate point and calculate the grav potential at that point\n",
    "    potential = np.zeros((len(X),len(Y)))\n",
    "\n",
    "    \n",
    "    \n",
    "    for i in range(len(X)):\n",
    "        for j in range(len(Y)):\n",
    "            # looping through the x and y coordinates in the mesh grid\n",
    "            for x in range(len(mass_array)):\n",
    "                # loops through the number of masses to consider and finds the radial distance of the mass to the point on the mesgrid\n",
    "                x_diff = abs(X[i][j] - two_positions[0][x])\n",
    "                y_diff = abs(Y[i][j] - two_positions[1][x])\n",
    "                \n",
    "                r = np.sqrt(x_diff**2 + y_diff**2)\n",
    "\n",
    "                potential[i][j] += grav_potential(r, mass_array[x])\n",
    "\n",
    "            # Cap values as it will mess up contour plot height calculation functionality\n",
    "            if type == \"graph\":\n",
    "                if potential[i][j] < -8000000000000:\n",
    "                    potential[i][j] = -8000000000000\n",
    "            if type == \"numerical\":\n",
    "                continue\n",
    "        \n",
    "\n",
    "    return potential\n",
    "\n",
    "                \n",
    "graph_potential_values = potential_array(X,Y, mass_array, two_positions, \"graph\")\n",
    "potential_values = potential_array(X,Y, mass_array, two_positions, \"numerical\")\n",
    "\n",
    "print(potential_values)\n",
    "print(len(potential_values))\n",
    "\n",
    "\n",
    "\n",
    "#logscale_potential = np.log(abs(potential_values))\n",
    "#print(potential_values)\n",
    "\n",
    "# 10 data points\n",
    "# -622753761314.2579\n",
    "# -5890232201142.565\n",
    "\n",
    "# 100 data points \n",
    "# -622753761314.2579\n",
    "# -111103565557535.06\n",
    "\n"
   ]
  },
  {
   "cell_type": "code",
   "execution_count": 164,
   "metadata": {},
   "outputs": [
    {
     "data": {
      "image/png": "[encoded data removed]",
      "text/plain": [
       "<Figure size 432x288 with 2 Axes>"
      ]
     },
     "metadata": {
      "needs_background": "light"
     },
     "output_type": "display_data"
    }
   ],
   "source": [
    "# now we want to plot the potential values as an imshow graph\n",
    "\n",
    "plt.figure(\"gravitational potential figure\")\n",
    "plt.contourf(X,Y, graph_potential_values, cmap = \"Blues\")\n",
    "plt.plot(two_positions[0][0], two_positions[1][0], \".\", c = \"red\", label = \"Sun\")\n",
    "plt.plot(two_positions[0][1], two_positions[1][1], \".\", c = \"green\", label = \"Earth\")\n",
    "plt.xlabel('X Coordinates / Km')\n",
    "plt.ylabel('Y Coordinates / Km')\n",
    "plt.title(\"Contour Plot of Gravitational Potential\")\n",
    "cbar = plt.colorbar()\n",
    "cbar.ax.set_ylabel('Grav Potential')\n",
    "#plt.xlim([-1.5e8, 1.5e8])\n",
    "#plt.ylim([-1.5e8, 1.5e8])\n",
    "plt.grid()\n",
    "plt.legend()\n",
    "plt.show()"
   ]
  },
  {
   "cell_type": "code",
   "execution_count": 166,
   "metadata": {},
   "outputs": [
    {
     "name": "stdout",
     "output_type": "stream",
     "text": [
      "[[499, 497], [853, 999]]\n",
      "[[498, 498], [999, 142]]\n"
     ]
    }
   ],
   "source": [
    "# now we want to search for the lagrange points in the array, these should occur when the grad of the potential = 0\n",
    "\n",
    "# np.gradient returns grad in x then y direction\n",
    "grad_potential = np.gradient(potential_values)\n",
    "x_grad = grad_potential[0]\n",
    "y_grad = grad_potential[1]\n",
    "\n",
    "def lagrange_point(potential_values):\n",
    "    # this function should find the lagrange point in the 2d arrays\n",
    "    # first search rows for min point then search corresponding collumn for max point, if the positions are the same then\n",
    "    # save as lagrange point\n",
    "\n",
    "    lagrange_points = []\n",
    "\n",
    "    for i in range(len(potential_values)):\n",
    "        # searching for minimums and corresponding maximums\n",
    "        # the function loops through the rows and finds the minimum in each row\n",
    "        position_min = np.where(potential_values[i] == np.amin(potential_values[i]))\n",
    "        \n",
    "        # now we want to search the collumn corresponding to the minimum and see if the position of the maximum corresponds with the minimum\n",
    "        collumn = []\n",
    "        for j in range(len(potential_values)):\n",
    "            collumn.append(potential_values[j][position_min[0][0]])\n",
    "        \n",
    "        # finding the position of the max value in the collumn\n",
    "        position_max = np.where(collumn == np.amax(collumn))\n",
    "\n",
    "        if i == position_max[0][0]:\n",
    "            lagrange_points.append([i,position_min[0][0]])\n",
    "\n",
    "        \n",
    "        # now searching for maxmimums and corresponding minimums\n",
    "        position_max1 = np.where(potential_values[i] == np.amax(potential_values[i]))\n",
    "\n",
    "        # again create the collumn that corresponds to this maximum\n",
    "        collumn_1 = []\n",
    "        for j in range(len(potential_values)):\n",
    "            collumn_1.append(potential_values[j][position_max1[0][0]])\n",
    "        \n",
    "\n",
    "        position_min1 = np.where(collumn_1 == np.amax(collumn_1))\n",
    "\n",
    "        if i == position_min1[0][0]:\n",
    "            lagrange_points.append([i, position_max1[0][0]])\n",
    "\n",
    "    return lagrange_points\n",
    "\n",
    "Lpoints_x = lagrange_point(x_grad)\n",
    "Lpoints_y = lagrange_point(y_grad)\n",
    "print(Lpoints_x)\n",
    "print(Lpoints_y)\n",
    "\n",
    "L1_x = X[Lpoints_x[0][0]][Lpoints_x[0][1]]\n",
    "L1_y = Y[Lpoints_x[0][0]][Lpoints_x[0][1]]\n",
    "\n",
    "L2_x = X[Lpoints_x[1][0]][Lpoints_x[1][1]]\n",
    "L2_y = Y[Lpoints_x[0][0]][Lpoints_x[0][1]]\n",
    "\n",
    "L3_x = X[Lpoints_y[0][0]][Lpoints_y[0][1]]\n",
    "L3_y = Y[Lpoints_y[0][0]][Lpoints_x[0][1]]\n",
    "\n",
    "L4_x = X[Lpoints_y[1][0]][Lpoints_y[1][1]]\n",
    "L4_y = Y[Lpoints_y[0][0]][Lpoints_y[0][1]]\n",
    "        \n",
    "    \n",
    "\n"
   ]
  },
  {
   "cell_type": "code",
   "execution_count": 167,
   "metadata": {},
   "outputs": [
    {
     "data": {
      "image/png": "[encoded data removed]",
      "text/plain": [
       "<Figure size 432x288 with 2 Axes>"
      ]
     },
     "metadata": {
      "needs_background": "light"
     },
     "output_type": "display_data"
    }
   ],
   "source": [
    "plt.figure(\"gravitational potential with lagrange points\")\n",
    "plt.contourf(X,Y, graph_potential_values, cmap = \"Blues\")\n",
    "plt.plot(two_positions[0][0], two_positions[1][0], \".\", c = \"red\", label = \"Sun\")\n",
    "plt.plot(two_positions[0][1], two_positions[1][1], \".\", c = \"green\", label = \"Earth\")\n",
    "#plt.plot(L1_x, L1_y, \"o\", c = \"white\", label = \"L1 X Grad\")\n",
    "plt.plot(L2_x, L2_y, \"o\", c= \"yellow\", label = \"L2 X Grad\")\n",
    "#plt.plot(L3_x, L3_y, \"o\", c= \"orange\", label = \"L3 Y Grad\")\n",
    "plt.plot(L4_x, L4_y, \"o\", c= \"purple\", label = \"L4 Y Grad\")\n",
    "plt.xlabel('X Coordinates / Km')\n",
    "plt.ylabel('Y Coordinates / Km')\n",
    "plt.title(\"Contour Plot of Gravitational Potential\")\n",
    "cbar = plt.colorbar()\n",
    "cbar.ax.set_ylabel('Grav Potential')\n",
    "#plt.xlim([-1.5e8, 1.5e8])\n",
    "#plt.ylim([-1.5e8, 1.5e8])\n",
    "plt.grid()\n",
    "plt.legend()\n",
    "plt.show()"
   ]
  },
  {
   "cell_type": "markdown",
   "metadata": {},
   "source": [
    "looks like this method only finds the L2 and L3 lagrange point\n",
    "maybe have to take grad in spherical polar coordinates instead?\n",
    "L2 and L3 are unstable lagrange points"
   ]
  }
 ],
 "metadata": {
  "interpreter": {
   "hash": "16d10a9ef6261dc03de61503f9d197db8a71d6c7db9b6f9d3a6279e13d9f461c"
  },
  "kernelspec": {
   "display_name": "Python 3.8.5 64-bit ('base': conda)",
   "name": "python3"
  },
  "language_info": {
   "codemirror_mode": {
    "name": "ipython",
    "version": 3
   },
   "file_extension": ".py",
   "mimetype": "text/x-python",
   "name": "python",
   "nbconvert_exporter": "python",
   "pygments_lexer": "ipython3",
   "version": "3.8.5"
  },
  "metadata": {
   "interpreter": {
    "hash": "ce85228a2a9ab9548eda6a9195cbe29992cb5f570a37152db66f1076475438aa"
   }
  },
  "orig_nbformat": 2
 },
 "nbformat": 4,
 "nbformat_minor": 2
}
